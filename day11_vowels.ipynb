{
  "nbformat": 4,
  "nbformat_minor": 0,
  "metadata": {
    "colab": {
      "name": "Colaboratory에 오신 것을 환영합니다",
      "provenance": [],
      "collapsed_sections": [],
      "include_colab_link": true
    },
    "kernelspec": {
      "display_name": "Python 3",
      "name": "python3"
    }
  },
  "cells": [
    {
      "cell_type": "markdown",
      "metadata": {
        "id": "view-in-github",
        "colab_type": "text"
      },
      "source": [
        "<a href=\"https://colab.research.google.com/github/suumino/headfirstpython/blob/main/day11_vowels.ipynb\" target=\"_parent\"><img src=\"https://colab.research.google.com/assets/colab-badge.svg\" alt=\"Open In Colab\"/></a>"
      ]
    },
    {
      "cell_type": "code",
      "metadata": {
        "id": "ak159hEysgTJ",
        "outputId": "19a35120-7220-4b1c-871f-219b5f3e365f",
        "colab": {
          "base_uri": "https://localhost:8080/"
        }
      },
      "source": [
        "phrase = \"Don't panic!\"\r\n",
        "plist = list(phrase)\r\n",
        "print(phrase)\r\n",
        "print(plist)\r\n",
        "\r\n",
        "for i in range(0, 4):\r\n",
        "    plist.pop()\r\n",
        "\r\n",
        "plist.pop(0)\r\n",
        "plist.remove(\"'\")\r\n",
        "plist.extend([plist.pop(), plist.pop()])\r\n",
        "plist.insert(2, plist.pop(3))\r\n",
        "\r\n",
        "new_phrase = ''.join(plist)\r\n",
        "print(plist)\r\n",
        "print(new_phrase)\r\n"
      ],
      "execution_count": 8,
      "outputs": [
        {
          "output_type": "execute_result",
          "data": {
            "text/plain": [
              "[2]"
            ]
          },
          "metadata": {
            "tags": []
          },
          "execution_count": 8
        }
      ]
    },
    {
      "cell_type": "code",
      "metadata": {
        "id": "qNbAEtb8uMcA",
        "outputId": "87f9c033-5f71-4a83-ce95-1df7a4928ea6",
        "colab": {
          "base_uri": "https://localhost:8080/"
        }
      },
      "source": [
        "first = [1, 2, 3, 4, 5]\r\n",
        "first\r\n",
        "\r\n",
        "second = first\r\n",
        "second\r\n",
        "\r\n",
        "third = second.copy()\r\n",
        "third\r\n",
        "\r\n",
        "second.append(6)\r\n",
        "print(second)\r\n",
        "print(first)\r\n",
        "print(third)\r\n"
      ],
      "execution_count": 11,
      "outputs": [
        {
          "output_type": "stream",
          "text": [
            "[1, 2, 3, 4, 5, 6]\n",
            "[1, 2, 3, 4, 5, 6]\n",
            "[1, 2, 3, 4, 5]\n"
          ],
          "name": "stdout"
        }
      ]
    },
    {
      "cell_type": "code",
      "metadata": {
        "id": "44Kuovir28mg",
        "outputId": "b0493c16-3355-44b8-fe6b-0ec6097b6027",
        "colab": {
          "base_uri": "https://localhost:8080/",
          "height": 35
        }
      },
      "source": [
        "saying = \"Don't panic!\"\r\n",
        "letters = list(saying)\r\n",
        "\r\n",
        "letters\r\n",
        "\r\n",
        "letters[0]\r\n",
        "letters[-1]"
      ],
      "execution_count": 12,
      "outputs": [
        {
          "output_type": "execute_result",
          "data": {
            "application/vnd.google.colaboratory.intrinsic+json": {
              "type": "string"
            },
            "text/plain": [
              "'!'"
            ]
          },
          "metadata": {
            "tags": []
          },
          "execution_count": 12
        }
      ]
    },
    {
      "cell_type": "code",
      "metadata": {
        "id": "ab1LXZBZ4hCU",
        "outputId": "11a20dcc-6746-43d2-e304-b88074265a85",
        "colab": {
          "base_uri": "https://localhost:8080/"
        }
      },
      "source": [
        "# vowels 4\r\n",
        "\r\n",
        "\r\n",
        "# vowels = ['a', 'e', 'i', 'o', 'u']\r\n",
        "\r\n",
        "# word = input(\"Provide a word to search for vowels: \")\r\n",
        "# found = []\r\n",
        "\r\n",
        "# for letter in word:\r\n",
        "#   if letter in vowels:\r\n",
        "#     if letter not in found:\r\n",
        "#      found.append(letter)\r\n",
        "# for vowel in found:\r\n",
        "#   print(vowel)\r\n",
        "#--------------------------------------------------------------\r\n",
        "\r\n",
        "found ={}\r\n",
        "found\r\n",
        "\r\n",
        "found['a'] = 0\r\n",
        "found['e'] = 0\r\n",
        "found['i'] = 0\r\n",
        "found['o'] = 0\r\n",
        "found['u'] = 0\r\n",
        "found\r\n",
        "\r\n",
        "found['e'] = found['e'] + 1\r\n",
        "found['e'] += 1\r\n",
        "print(found)\r\n",
        "\r\n",
        "for k in found:\r\n",
        "  print(k, 'was found', found[k], 'time(s).')\r\n",
        "\r\n",
        "for k, v in sorted(found.items()):\r\n",
        "  print(k, 'was found', v, 'time(s).')"
      ],
      "execution_count": 36,
      "outputs": [
        {
          "output_type": "stream",
          "text": [
            "{'a': 0, 'e': 2, 'i': 0, 'o': 0, 'u': 0}\n",
            "a was found 0 time(s).\n",
            "e was found 2 time(s).\n",
            "i was found 0 time(s).\n",
            "o was found 0 time(s).\n",
            "u was found 0 time(s).\n",
            "a was found 0 time(s).\n",
            "e was found 2 time(s).\n",
            "i was found 0 time(s).\n",
            "o was found 0 time(s).\n",
            "u was found 0 time(s).\n"
          ],
          "name": "stdout"
        }
      ]
    },
    {
      "cell_type": "code",
      "metadata": {
        "id": "dH28o7xl84BQ",
        "outputId": "51c1a790-d163-45c2-c2e8-bcc0009bd1ed",
        "colab": {
          "base_uri": "https://localhost:8080/"
        }
      },
      "source": [
        "# vowels 5\r\n",
        "\r\n",
        "\r\n",
        "vowels = ['a', 'e', 'i', 'o', 'u']\r\n",
        "\r\n",
        "word = input(\"Provide a word to search for vowels: \")\r\n",
        "found ={}\r\n",
        "found\r\n",
        "\r\n",
        "for letter in word:\r\n",
        "  if letter in vowels:\r\n",
        "    found.setdefault(letter, 0)\r\n",
        "    found[letter] += 1\r\n",
        "\r\n",
        "for k, v in sorted(found.items()):\r\n",
        "  print(k, 'was found', v, 'time(s).')"
      ],
      "execution_count": 39,
      "outputs": [
        {
          "output_type": "stream",
          "text": [
            "Provide a word to search for vowels: millly\n",
            "i was found 1 time(s).\n"
          ],
          "name": "stdout"
        }
      ]
    },
    {
      "cell_type": "code",
      "metadata": {
        "id": "SYeyngF8Fw_s",
        "outputId": "a65ee351-af55-45ae-cf14-2e7202c381b1",
        "colab": {
          "base_uri": "https://localhost:8080/"
        }
      },
      "source": [
        "# vowels 7\r\n",
        "\r\n",
        "vowels = set('aeiou')\r\n",
        "\r\n",
        "word = input(\"Provide a word to search for vowels: \")\r\n",
        "found = vowels.intersection(set(word))\r\n",
        "\r\n",
        "for vowel in found:\r\n",
        "  print(vowel)"
      ],
      "execution_count": 41,
      "outputs": [
        {
          "output_type": "stream",
          "text": [
            "Provide a word to search for vowels: asdfasdf;lkj\n",
            "a\n"
          ],
          "name": "stdout"
        }
      ]
    },
    {
      "cell_type": "code",
      "metadata": {
        "id": "tewTLpQiJ-R4",
        "outputId": "e072bb6f-ba4a-458c-99fe-37e1c647836d",
        "colab": {
          "base_uri": "https://localhost:8080/"
        }
      },
      "source": [
        "# function_template 1\r\n",
        "\r\n",
        "def search4vowels():\r\n",
        "  vowels = set('aeiou')\r\n",
        "\r\n",
        "  word = input(\"Provide a word to search for vowels: \")\r\n",
        "  found = vowels.intersection(set(word))\r\n",
        "\r\n",
        "  for vowel in found:\r\n",
        "    print(vowel)\r\n",
        "\r\n",
        "search4vowels()"
      ],
      "execution_count": 42,
      "outputs": [
        {
          "output_type": "stream",
          "text": [
            "Provide a word to search for vowels: millsa\n",
            "i\n",
            "a\n"
          ],
          "name": "stdout"
        }
      ]
    },
    {
      "cell_type": "code",
      "metadata": {
        "id": "qQxGNpYDh3QR",
        "outputId": "a665f29e-bbf6-4897-d085-be90bfe7e346",
        "colab": {
          "base_uri": "https://localhost:8080/"
        }
      },
      "source": [
        "# vsearch 1\r\n",
        "\r\n",
        "def search4vowels(word):\r\n",
        "  \"\"\"Display any vowels found in an supplied word\"\"\"\r\n",
        "  vowels = set('aeiou')\r\n",
        "\r\n",
        "#  word = input(\"Provide a word to search for vowels: \")\r\n",
        "  found = vowels.intersection(set(word))\r\n",
        "  for vowel in found:\r\n",
        "    print(vowel)\r\n",
        "\r\n",
        "search4vowels('hitch-hiker')"
      ],
      "execution_count": 49,
      "outputs": [
        {
          "output_type": "stream",
          "text": [
            "i\n",
            "e\n"
          ],
          "name": "stdout"
        }
      ]
    },
    {
      "cell_type": "code",
      "metadata": {
        "id": "X-C-G2jFiipu"
      },
      "source": [
        ""
      ],
      "execution_count": 46,
      "outputs": []
    }
  ]
}