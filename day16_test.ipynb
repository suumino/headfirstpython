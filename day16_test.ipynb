{
  "nbformat": 4,
  "nbformat_minor": 0,
  "metadata": {
    "colab": {
      "name": "Colaboratory에 오신 것을 환영합니다",
      "provenance": [],
      "collapsed_sections": [],
      "include_colab_link": true
    },
    "kernelspec": {
      "display_name": "Python 3",
      "name": "python3"
    }
  },
  "cells": [
    {
      "cell_type": "markdown",
      "metadata": {
        "id": "view-in-github",
        "colab_type": "text"
      },
      "source": [
        "<a href=\"https://colab.research.google.com/github/suumino/headfirstpython/blob/main/day16_test.ipynb\" target=\"_parent\"><img src=\"https://colab.research.google.com/assets/colab-badge.svg\" alt=\"Open In Colab\"/></a>"
      ]
    },
    {
      "cell_type": "code",
      "metadata": {
        "colab": {
          "base_uri": "https://localhost:8080/"
        },
        "id": "2CLTf0YwaadZ",
        "outputId": "473bb7e1-6e06-4a1e-8690-73dbbdf7baed"
      },
      "source": [
        "# 시험 3\r\n",
        "\r\n",
        "a = int(input('Enter a number: '))   # 수 입력받음\r\n",
        "\r\n",
        "if a % 2 == 0:   # 만약 그 수가 2로 나누어떨어지면\r\n",
        "  print(a, 'is Even')   # 그 수는 짝수\r\n",
        "else:    # 그 수가 2로 나누어떨어지지않으면\r\n",
        "  print(a, 'is Odd')   # 그 수는 홀수"
      ],
      "execution_count": 3,
      "outputs": [
        {
          "output_type": "stream",
          "text": [
            "Enter a number: 18\n",
            "18 is Even\n"
          ],
          "name": "stdout"
        }
      ]
    },
    {
      "cell_type": "code",
      "metadata": {
        "colab": {
          "base_uri": "https://localhost:8080/"
        },
        "id": "zrlY7fa8cBUX",
        "outputId": "9a43c759-238f-45c1-b35e-ec433d9da953"
      },
      "source": [
        "a = input('Enter a number: ')   # 수 입력받음\r\n",
        "b = list(a)   # list로 전환\r\n",
        "\r\n",
        "if b[-1] == '1' or b[-1] == '3' or b[-1] == '5' or b[-1] == '7' or b[-1] == '9':   # 수의 일의자리수가 1, 3, 5, 7, 9 중 하나이면\r\n",
        "  print(a, 'is Odd')   # 홀수\r\n",
        "else:    # 아니면\r\n",
        "  print(a, 'is Even')   # 짝수"
      ],
      "execution_count": 12,
      "outputs": [
        {
          "output_type": "stream",
          "text": [
            "Enter a number: 43\n",
            "43 is Odd\n"
          ],
          "name": "stdout"
        }
      ]
    },
    {
      "cell_type": "code",
      "metadata": {
        "id": "auHLaLOXdMje"
      },
      "source": [
        ""
      ],
      "execution_count": null,
      "outputs": []
    }
  ]
}