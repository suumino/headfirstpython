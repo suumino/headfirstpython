{
  "nbformat": 4,
  "nbformat_minor": 0,
  "metadata": {
    "colab": {
      "name": "Colaboratory에 오신 것을 환영합니다",
      "provenance": [],
      "collapsed_sections": []
    },
    "kernelspec": {
      "display_name": "Python 3",
      "name": "python3"
    }
  },
  "cells": [
    {
      "cell_type": "code",
      "metadata": {
        "colab": {
          "base_uri": "https://localhost:8080/"
        },
        "id": "uUmyow-EyPPu",
        "outputId": "0ac03dfe-71f1-403e-a470-bb654a171853"
      },
      "source": [
        "# 문제 27 딕셔너리 생성\r\n",
        "\r\n",
        "key = input().split()\r\n",
        "value = map(int, input().split())\r\n",
        "\r\n",
        "result = dict(zip(key, value))\r\n",
        "\r\n",
        "print(result)"
      ],
      "execution_count": 32,
      "outputs": [
        {
          "output_type": "stream",
          "text": [
            "as df \n",
            "12 23\n",
            "{'as': 12, 'df': 23}\n"
          ],
          "name": "stdout"
        }
      ]
    },
    {
      "cell_type": "code",
      "metadata": {
        "colab": {
          "base_uri": "https://localhost:8080/"
        },
        "id": "TG2Rj9q10u5t",
        "outputId": "702a4624-5f42-47a3-ac42-894c45b35bf1"
      },
      "source": [
        "# 문제 28 2-gram\r\n",
        "a = input()\r\n",
        "\r\n",
        "for i in range(len(a)-1):\r\n",
        "  print( a[i] + a[i+1])\r\n"
      ],
      "execution_count": 44,
      "outputs": [
        {
          "output_type": "stream",
          "text": [
            "python\n",
            "py\n",
            "yt\n",
            "th\n",
            "ho\n",
            "on\n"
          ],
          "name": "stdout"
        }
      ]
    },
    {
      "cell_type": "code",
      "metadata": {
        "colab": {
          "base_uri": "https://localhost:8080/"
        },
        "id": "Wa-euGFs9lov",
        "outputId": "15843c01-b4c9-491c-9e42-51f85c891d66"
      },
      "source": [
        "# 문제 29 대문자만 지나가세요\r\n",
        "\r\n",
        "#isdigit\r\n",
        "\r\n",
        "a = input()\r\n",
        "\r\n",
        "if a.isupper():\r\n",
        "  print(\"Yes\")\r\n",
        "elif a.islower():\r\n",
        "  print(\"No\")\r\n",
        "\r\n",
        "###############################\r\n",
        "\r\n",
        "a = input()\r\n",
        "\r\n",
        "if 90 >= ord(a) >= 65:\r\n",
        "  print(\"Yes\")\r\n",
        "else: \r\n",
        "  print(\"No\")\r\n",
        "\r\n",
        "\r\n",
        "###############################\r\n",
        "\r\n",
        "a = input()\r\n",
        "\r\n",
        "if chr(90) >= a >= chr(65):\r\n",
        "  print(\"Yes\")\r\n",
        "else: \r\n",
        "  print(\"No\")"
      ],
      "execution_count": 91,
      "outputs": [
        {
          "output_type": "stream",
          "text": [
            "A\n",
            "Yes\n",
            "A\n",
            "Yes\n",
            "A\n",
            "Yes\n"
          ],
          "name": "stdout"
        }
      ]
    },
    {
      "cell_type": "code",
      "metadata": {
        "colab": {
          "base_uri": "https://localhost:8080/"
        },
        "id": "bHlk7VhTC7G2",
        "outputId": "17038f94-8e73-42c1-861a-ab1619d98f42"
      },
      "source": [
        "# 문제 30 문자열 속 문자 찾기\r\n",
        "\r\n",
        "a = input()\r\n",
        "b = input()\r\n",
        "\r\n",
        "if b in a:\r\n",
        "  print(a.index(b))\r\n",
        "  print(a.find(b))\r\n"
      ],
      "execution_count": 105,
      "outputs": [
        {
          "output_type": "stream",
          "text": [
            "pineapple is yummy\n",
            "apple\n",
            "4\n",
            "4\n"
          ],
          "name": "stdout"
        }
      ]
    },
    {
      "cell_type": "code",
      "metadata": {
        "colab": {
          "base_uri": "https://localhost:8080/"
        },
        "id": "zrxNqYPlN8qg",
        "outputId": "4d77aac3-43f2-4b95-f960-e3c288310d38"
      },
      "source": [
        "# 문제 32 문자열 만들기\r\n",
        "\r\n",
        "txt = input()\r\n",
        "a = list(txt.split())\r\n",
        "print(len(a))"
      ],
      "execution_count": 132,
      "outputs": [
        {
          "output_type": "stream",
          "text": [
            "저 노래 세상 넓은\n",
            "4\n"
          ],
          "name": "stdout"
        }
      ]
    },
    {
      "cell_type": "code",
      "metadata": {
        "colab": {
          "base_uri": "https://localhost:8080/"
        },
        "id": "VVPB_RTtQjEI",
        "outputId": "85a0341c-9827-4650-dba5-b8bba3c3e950"
      },
      "source": [
        "# 문제 33 거꾸로 출력하기\r\n",
        "\r\n",
        "a = list(input().split())\r\n",
        "\r\n",
        "for i in range(0, len(a)):\r\n",
        "  print(a.pop(), end=' ')\r\n",
        "\r\n",
        "\r\n",
        "#############################\r\n",
        "\r\n",
        "txt = input()\r\n",
        "txt2 = list(txt.split())\r\n",
        "txt3 = [int(i) for i in txt2]\r\n",
        "\r\n",
        "for i in range(len(txt3)-1, -1, -1):\r\n",
        "  print(txt3[i], end =' ')\r\n"
      ],
      "execution_count": 136,
      "outputs": [
        {
          "output_type": "stream",
          "text": [
            "1 2 3 4 5\n",
            "5 4 3 2 1 "
          ],
          "name": "stdout"
        }
      ]
    },
    {
      "cell_type": "code",
      "metadata": {
        "colab": {
          "base_uri": "https://localhost:8080/"
        },
        "id": "NstvdpASUafa",
        "outputId": "15361137-0d97-4bd9-e78a-7a65f7786831"
      },
      "source": [
        "# 문제 34 sort 구현하기\r\n",
        "\r\n",
        "# a.sort()는 원본 리스트 자체의 순서를 변화시킨다.\r\n",
        "# sorted(a)는 정렬된 새로운 리스트를 만든다.\r\n",
        "a = list(map(int, input().split()))\r\n",
        "b = sorted(a)\r\n",
        "\r\n",
        "if a == b : \r\n",
        "  print(\"Yes\")\r\n",
        "else:\r\n",
        "  print(\"No\")\r\n",
        "\r\n",
        "###########################################\r\n",
        "\r\n",
        "num1 = input()\r\n",
        "num2 = list(num1.split())\r\n",
        "num3 = [int(i) for i in num2]\r\n",
        "\r\n",
        "if num3 != sorted(num3): \r\n",
        "  print(\"No\")\r\n",
        "else : \r\n",
        "  print(\"Yes\")"
      ],
      "execution_count": 156,
      "outputs": [
        {
          "output_type": "stream",
          "text": [
            "1 3 2\n",
            "No\n"
          ],
          "name": "stdout"
        }
      ]
    },
    {
      "cell_type": "code",
      "metadata": {
        "colab": {
          "base_uri": "https://localhost:8080/"
        },
        "id": "wmRk2jUMc5oR",
        "outputId": "3ffb9100-664a-4ead-8bbc-3e271af2b7c8"
      },
      "source": [
        "# 문제 36 구구단 출력하기\r\n",
        "\r\n",
        "num = int(input())\r\n",
        "\r\n",
        "for i in range(1, 10):\r\n",
        "  print(num * i, end = ' ')"
      ],
      "execution_count": 161,
      "outputs": [
        {
          "output_type": "stream",
          "text": [
            "2\n",
            "2 4 6 8 10 12 14 16 18 "
          ],
          "name": "stdout"
        }
      ]
    },
    {
      "cell_type": "code",
      "metadata": {
        "colab": {
          "base_uri": "https://localhost:8080/"
        },
        "id": "21Gd-VMQi2lv",
        "outputId": "fb4bb6da-5f8a-4870-8417-337ae8486fcd"
      },
      "source": [
        "# 문제 37 count 사용하기\r\n",
        "\r\n",
        "# a = list(map(str, input().split()))\r\n",
        "# cou = 1\r\n",
        "# name = ''\r\n",
        "# for i in range(1, len(a)):\r\n",
        "#   if a.count(a[i-1]) > a.count(a[i]):\r\n",
        "#     cou = a.count(a[i-1])\r\n",
        "#     name = a[i-1]\r\n",
        "#   elif a.count(a[i-1]) < a.count(a[i]):\r\n",
        "#     cou = a.count(a[i])\r\n",
        "#     name = a[i]\r\n",
        "  \r\n",
        "# print(\"%s(이)가 총 %d표로 반장이 되었습니다.\" % (name, cou))\r\n",
        "\r\n",
        "\r\n",
        "##############################\r\n",
        "\r\n",
        "a = input().split()\r\n",
        "b = list(set(a))\r\n",
        "m = 0\r\n",
        "\r\n",
        "for i in range(len(b)):\r\n",
        "  if a.count(b[i]) > a.count(b[m]):\r\n",
        "    m = i\r\n",
        "\r\n",
        "print(\"%s(이)가 총 %d표로 반장이 되었습니다.\" % (b[m], a.count(b[m])))\r\n"
      ],
      "execution_count": 184,
      "outputs": [
        {
          "output_type": "stream",
          "text": [
            "원영 원영 은비 은비 은비 은비 채연 채연\n",
            "은비(이)가 총 4표로 반장이 되었습니다.\n"
          ],
          "name": "stdout"
        }
      ]
    },
    {
      "cell_type": "code",
      "metadata": {
        "colab": {
          "base_uri": "https://localhost:8080/"
        },
        "id": "sRuR_0gc18oE",
        "outputId": "6218b816-410e-44ec-877e-b73d357a699a"
      },
      "source": [
        "# 문제 37 count 사용하기\r\n",
        "\r\n",
        "a = list(map(str, input().split()))\r\n",
        "cou = 1\r\n",
        "name = ''\r\n",
        "for i in range(1, len(a)):\r\n",
        "  if a.count(a[i-1]) > a.count(a[i]):\r\n",
        "    cou = a.count(a[i-1])\r\n",
        "    name = a[i-1]\r\n",
        "  elif a.count(a[i-1]) < a.count(a[i]):\r\n",
        "    cou = a.count(a[i])\r\n",
        "    name = a[i]\r\n",
        "  \r\n",
        "print(\"%s(이)가 총 %d표로 반장이 되었습니다.\" % (name, cou))"
      ],
      "execution_count": 185,
      "outputs": [
        {
          "output_type": "stream",
          "text": [
            "원영 원영 은비 은비 은비 은비 채연 채연\n",
            "은비(이)가 총 4표로 반장이 되었습니다.\n"
          ],
          "name": "stdout"
        }
      ]
    },
    {
      "cell_type": "code",
      "metadata": {
        "colab": {
          "base_uri": "https://localhost:8080/"
        },
        "id": "uKtZ7xDt2Zo7",
        "outputId": "f3982704-ce6b-4905-ea9e-1a9dca55835e"
      },
      "source": [
        "# 문제 39 오타 수정하기\r\n",
        "\r\n",
        "a = input()\r\n",
        "\r\n",
        "print(a.replace('q', 'e'))"
      ],
      "execution_count": 189,
      "outputs": [
        {
          "output_type": "stream",
          "text": [
            "querty\n",
            "euerty\n"
          ],
          "name": "stdout"
        }
      ]
    },
    {
      "cell_type": "code",
      "metadata": {
        "colab": {
          "base_uri": "https://localhost:8080/"
        },
        "id": "tn8acE_GDV8d",
        "outputId": "36c119c3-64ed-42a1-d392-c32321333467"
      },
      "source": [
        "# 문제 41 소수 판별\r\n",
        "\r\n",
        "a = int(input())\r\n",
        "\r\n",
        "re = 0\r\n",
        "\r\n",
        "for i in range(1, a + 1):\r\n",
        "  if a % i == 0:\r\n",
        "    re += 1\r\n",
        "\r\n",
        "if re == 2:\r\n",
        "  print(\"YES\")\r\n",
        "else :\r\n",
        "  print(\"NO\")"
      ],
      "execution_count": 209,
      "outputs": [
        {
          "output_type": "stream",
          "text": [
            "11\n",
            "YES\n"
          ],
          "name": "stdout"
        }
      ]
    },
    {
      "cell_type": "code",
      "metadata": {
        "colab": {
          "base_uri": "https://localhost:8080/"
        },
        "id": "jUxNXiI0Elsz",
        "outputId": "1938d639-4a52-40f7-f5de-e8346268da5f"
      },
      "source": [
        "# 문제 44 각 자리수의 합\r\n",
        "\r\n",
        "a = list(map(int, input()))\r\n",
        "re = 0\r\n",
        "\r\n",
        "for i in range(0, len(a)):\r\n",
        "  re += a[i]\r\n",
        "\r\n",
        "print(re)\r\n",
        "\r\n",
        "\r\n",
        "###################\r\n",
        "\r\n",
        "\r\n",
        "a = list(map(int, input()))\r\n",
        "print(sum(a))\r\n",
        "\r\n",
        "\r\n",
        "###################\r\n",
        "\r\n",
        "\r\n",
        "sum = 0\r\n",
        "for i in input():\r\n",
        "  sum += int(i)\r\n",
        "\r\n",
        "print(sum)\r\n"
      ],
      "execution_count": 221,
      "outputs": [
        {
          "output_type": "stream",
          "text": [
            "1234\n",
            "10\n"
          ],
          "name": "stdout"
        }
      ]
    },
    {
      "cell_type": "code",
      "metadata": {
        "id": "9pYJF09eY0qz"
      },
      "source": [
        "# 문제 46 str 자료형의 응용\r\n",
        "\r\n",
        "a = int(input())\r\n",
        "sum = 0\r\n",
        "\r\n",
        "for i in range(a):\r\n",
        "  for j in str(i):\r\n",
        "    sum += int(j)\r\n",
        "\r\n",
        "print(sum)"
      ],
      "execution_count": null,
      "outputs": []
    },
    {
      "cell_type": "code",
      "metadata": {
        "id": "NJnGmtqOaie8"
      },
      "source": [
        ""
      ],
      "execution_count": null,
      "outputs": []
    }
  ]
}