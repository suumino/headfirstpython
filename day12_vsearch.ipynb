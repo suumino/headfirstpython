{
  "nbformat": 4,
  "nbformat_minor": 0,
  "metadata": {
    "colab": {
      "name": "Colaboratory에 오신 것을 환영합니다",
      "provenance": [],
      "collapsed_sections": [],
      "include_colab_link": true
    },
    "kernelspec": {
      "display_name": "Python 3",
      "name": "python3"
    }
  },
  "cells": [
    {
      "cell_type": "markdown",
      "metadata": {
        "id": "view-in-github",
        "colab_type": "text"
      },
      "source": [
        "<a href=\"https://colab.research.google.com/github/suumino/headfirstpython/blob/main/day12_vsearch.ipynb\" target=\"_parent\"><img src=\"https://colab.research.google.com/assets/colab-badge.svg\" alt=\"Open In Colab\"/></a>"
      ]
    },
    {
      "cell_type": "code",
      "metadata": {
        "id": "CXyRni2biEBW",
        "outputId": "c4d414c9-dfcd-49ea-bdc4-6f2cc0cb456e",
        "colab": {
          "base_uri": "https://localhost:8080/"
        }
      },
      "source": [
        "# 시험 11번 문제\r\n",
        "\r\n",
        "a = int(input(\"n=\"))   # 숫자를 입력받는다.\r\n",
        "\r\n",
        "result = 0   # 소수임을 확인할 변수 초기화\r\n",
        "\r\n",
        "for i in range(1, a + 1):   # 1부터 a까지의 수 중에서\r\n",
        "  if a % i == 0:   # 만약 a가 i로 나누어진다면\r\n",
        "    result += 1   # 변수에 1을 더해라\r\n",
        "\r\n",
        "if result == 2:   # 만약 1부터 a까지 나누어진 수가 2개 뿐이라면\r\n",
        "  print(\"true\")   # true\r\n",
        "else :   # 더 있다면\r\n",
        "  print(\"false\")   # false"
      ],
      "execution_count": 39,
      "outputs": [
        {
          "output_type": "stream",
          "text": [
            "n=1\n",
            "false\n"
          ],
          "name": "stdout"
        }
      ]
    },
    {
      "cell_type": "code",
      "metadata": {
        "id": "W7oWtGywkFsI",
        "outputId": "7447a746-26cf-4dc6-aedd-bd41c22c79f2",
        "colab": {
          "base_uri": "https://localhost:8080/"
        }
      },
      "source": [
        "# 시험 11번 문제\r\n",
        "\r\n",
        "a = int(input(\"n=\"))\r\n",
        "\r\n",
        "an = 'true'\r\n",
        "for i in range(2, a):\r\n",
        "  if a % i == 0:\r\n",
        "    an = 'flase'\r\n",
        "if a == 1:\r\n",
        "  print(\"false\")\r\n",
        "print(an)"
      ],
      "execution_count": 59,
      "outputs": [
        {
          "output_type": "stream",
          "text": [
            "n=20\n",
            "flase\n"
          ],
          "name": "stdout"
        }
      ]
    },
    {
      "cell_type": "code",
      "metadata": {
        "id": "BLre5fWZl8hG",
        "outputId": "6eb0f9be-c7ba-4ea1-e82e-0efef928928b",
        "colab": {
          "base_uri": "https://localhost:8080/"
        }
      },
      "source": [
        "# vsearch 1\r\n",
        "\r\n",
        "def search4vowels(phrase:str) -> set:\r\n",
        "  \"\"\"Return any vowels found in an supplied word\"\"\"\r\n",
        "  vowels = set('aeiou')\r\n",
        "  return vowels.intersection(set(phrase))\r\n",
        "\r\n",
        "def search4letters(phrase : str, letters : str) -> set:\r\n",
        "  \"\"\"Return an set of the 'letters' found in 'phrase'\"\"\"\r\n",
        "  return set(letters).intersection(set(phrase))\r\n",
        "\r\n",
        "search4letters('hitch-hiker', 'aeiou')\r\n"
      ],
      "execution_count": 80,
      "outputs": [
        {
          "output_type": "execute_result",
          "data": {
            "text/plain": [
              "{'e', 'i'}"
            ]
          },
          "metadata": {
            "tags": []
          },
          "execution_count": 80
        }
      ]
    },
    {
      "cell_type": "code",
      "metadata": {
        "id": "vdtlWy3ToDf3",
        "outputId": "6c32ef75-f8dd-4fe0-d01a-7c7181f89910",
        "colab": {
          "base_uri": "https://localhost:8080/"
        }
      },
      "source": [
        "def search4letters(phrase : str, letters : str = 'aeiou') -> set:\r\n",
        "  \"\"\"Return an set of the 'letters' found in 'phrase'\"\"\"\r\n",
        "  return set(letters).intersection(set(phrase))\r\n",
        "\r\n",
        "search4letters('hitch-hiker', 'aeiou')\r\n",
        "search4letters(letters='xyz', phrase='galaxy')\r\n",
        "\r\n",
        "\r\n",
        "import random\r\n",
        "random.randint(0, 255)"
      ],
      "execution_count": 86,
      "outputs": [
        {
          "output_type": "execute_result",
          "data": {
            "text/plain": [
              "70"
            ]
          },
          "metadata": {
            "tags": []
          },
          "execution_count": 86
        }
      ]
    },
    {
      "cell_type": "code",
      "metadata": {
        "id": "kRI2RkEOPYXv"
      },
      "source": [
        ""
      ],
      "execution_count": 83,
      "outputs": []
    }
  ]
}